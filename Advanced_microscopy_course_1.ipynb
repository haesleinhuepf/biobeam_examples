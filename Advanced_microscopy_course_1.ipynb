{
 "cells": [
  {
   "cell_type": "code",
   "execution_count": 1,
   "metadata": {},
   "outputs": [
    {
     "name": "stderr",
     "output_type": "stream",
     "text": [
      "WARNING:gputools.core.ocldevice | prefered platform/device (0/0) not available (device type = 4) \n",
      "...choosing the best from the rest\n",
      "/usr/local/lib64/python3.6/site-packages/pyopencl/cffi_cl.py:1521: CompilerWarning: Non-empty compiler output encountered. Set the environment variable PYOPENCL_COMPILER_OUTPUT=1 to see more.\n",
      "  \"to see more.\", CompilerWarning)\n"
     ]
    }
   ],
   "source": [
    "import numpy as np\n",
    "import biobeam\n"
   ]
  },
  {
   "cell_type": "code",
   "execution_count": 3,
   "metadata": {},
   "outputs": [
    {
     "name": "stderr",
     "output_type": "stream",
     "text": [
      "/usr/local/lib64/python3.6/site-packages/pyopencl/cffi_cl.py:1521: CompilerWarning: Non-empty compiler output encountered. Set the environment variable PYOPENCL_COMPILER_OUTPUT=1 to see more.\n",
      "  \"to see more.\", CompilerWarning)\n"
     ]
    }
   ],
   "source": [
    "# configure the system to calculate a volume of 8x8x8 microns\n",
    "\n",
    "# shape = cube with a given size\n",
    "# units = pixel axis length in microns\n",
    "# lam = wavelength\n",
    "u, ex, ey, ez = biobeam.focus_field_beam(\n",
    "    shape=(80, 80, 80), \n",
    "    units=(0.1, 0.1, 0.1),\n",
    "    lam=488, NA=[0.8, 0], \n",
    "    return_all_fields=True)\n"
   ]
  },
  {
   "cell_type": "code",
   "execution_count": 6,
   "metadata": {
    "scrolled": true
   },
   "outputs": [
    {
     "name": "stdout",
     "output_type": "stream",
     "text": [
      "[[[0.41602856 0.41603616 0.41604343 ... 0.41605106 0.41604343 0.41603616]\n",
      "  [0.41603678 0.41604418 0.4160519  ... 0.4160591  0.4160519  0.41604418]\n",
      "  [0.41604462 0.41605246 0.4160598  ... 0.41606697 0.4160598  0.41605246]\n",
      "  ...\n",
      "  [0.4160528  0.41606024 0.41606748 ... 0.41607442 0.41606748 0.41606024]\n",
      "  [0.41604462 0.41605246 0.4160598  ... 0.41606697 0.4160598  0.41605246]\n",
      "  [0.41603678 0.41604418 0.4160519  ... 0.4160591  0.4160519  0.41604418]]\n",
      "\n",
      " [[0.41602933 0.41603693 0.41604427 ... 0.4160512  0.41604427 0.41603693]\n",
      "  [0.41603756 0.416045   0.41605225 ... 0.41605905 0.41605225 0.416045  ]\n",
      "  [0.4160455  0.41605285 0.4160598  ... 0.41606742 0.4160598  0.41605285]\n",
      "  ...\n",
      "  [0.41605294 0.41606015 0.41606796 ... 0.41607526 0.41606796 0.41606015]\n",
      "  [0.4160455  0.41605285 0.4160598  ... 0.41606742 0.4160598  0.41605285]\n",
      "  [0.41603756 0.416045   0.41605225 ... 0.41605905 0.41605225 0.416045  ]]\n",
      "\n",
      " [[0.41602993 0.41603723 0.4160449  ... 0.4160515  0.4160449  0.41603723]\n",
      "  [0.41603786 0.41604564 0.41605264 ... 0.41605988 0.41605264 0.41604564]\n",
      "  [0.41604608 0.41605324 0.41606072 ... 0.4160682  0.41606072 0.41605324]\n",
      "  ...\n",
      "  [0.41605324 0.416061   0.41606873 ... 0.4160758  0.41606873 0.416061  ]\n",
      "  [0.41604608 0.41605324 0.41606072 ... 0.4160682  0.41606072 0.41605324]\n",
      "  [0.41603786 0.41604564 0.41605264 ... 0.41605988 0.41605264 0.41604564]]\n",
      "\n",
      " ...\n",
      "\n",
      " [[0.4160307  0.41603795 0.41604543 ... 0.41605273 0.41604543 0.41603795]\n",
      "  [0.41603854 0.41604632 0.41605365 ... 0.41606075 0.41605365 0.41604632]\n",
      "  [0.41604662 0.41605425 0.4160615  ... 0.41606873 0.4160615  0.41605425]\n",
      "  ...\n",
      "  [0.41605446 0.41606185 0.41606927 ... 0.4160765  0.41606927 0.41606185]\n",
      "  [0.41604662 0.41605425 0.4160615  ... 0.41606873 0.4160615  0.41605425]\n",
      "  [0.41603854 0.41604632 0.41605365 ... 0.41606075 0.41605365 0.41604632]]\n",
      "\n",
      " [[0.41602993 0.41603723 0.4160449  ... 0.4160515  0.4160449  0.41603723]\n",
      "  [0.41603786 0.41604564 0.41605264 ... 0.41605988 0.41605264 0.41604564]\n",
      "  [0.41604608 0.41605324 0.41606072 ... 0.4160682  0.41606072 0.41605324]\n",
      "  ...\n",
      "  [0.41605324 0.416061   0.41606873 ... 0.4160758  0.41606873 0.416061  ]\n",
      "  [0.41604608 0.41605324 0.41606072 ... 0.4160682  0.41606072 0.41605324]\n",
      "  [0.41603786 0.41604564 0.41605264 ... 0.41605988 0.41605264 0.41604564]]\n",
      "\n",
      " [[0.41602933 0.41603693 0.41604427 ... 0.4160512  0.41604427 0.41603693]\n",
      "  [0.41603756 0.416045   0.41605225 ... 0.41605905 0.41605225 0.416045  ]\n",
      "  [0.4160455  0.41605285 0.4160598  ... 0.41606742 0.4160598  0.41605285]\n",
      "  ...\n",
      "  [0.41605294 0.41606015 0.41606796 ... 0.41607526 0.41606796 0.41606015]\n",
      "  [0.4160455  0.41605285 0.4160598  ... 0.41606742 0.4160598  0.41605285]\n",
      "  [0.41603756 0.416045   0.41605225 ... 0.41605905 0.41605225 0.416045  ]]]\n"
     ]
    }
   ],
   "source": [
    "# save result to disc\n",
    "fout=open('NA0.8_intensity.dat', 'wb')\n",
    "fout.write(u)\n",
    "fout.close()\n"
   ]
  },
  {
   "cell_type": "markdown",
   "metadata": {},
   "source": [
    "Now we can open the NA0.8_intensity.dat in Fiji by using the menu File > Import > Raw an entering width=80, height=80 and number of images=80"
   ]
  },
  {
   "cell_type": "code",
   "execution_count": 11,
   "metadata": {},
   "outputs": [
    {
     "name": "stderr",
     "output_type": "stream",
     "text": [
      "/usr/local/lib64/python3.6/site-packages/pyopencl/cffi_cl.py:1521: CompilerWarning: Non-empty compiler output encountered. Set the environment variable PYOPENCL_COMPILER_OUTPUT=1 to see more.\n",
      "  \"to see more.\", CompilerWarning)\n"
     ]
    }
   ],
   "source": [
    "# let's try again with a different pixel size (and thus larger field of view)\n",
    "u, ex, ey, ez = biobeam.focus_field_beam(\n",
    "    shape=(80, 80, 80), \n",
    "    units=(10, 10, 10),\n",
    "    lam=488, NA=[0.8, 0], \n",
    "    return_all_fields=True)\n",
    "\n",
    "# save result to disc\n",
    "fout=open('NA0.8_intensity2.dat', 'wb')\n",
    "fout.write(u)\n",
    "fout.close()\n"
   ]
  },
  {
   "cell_type": "markdown",
   "metadata": {},
   "source": [
    "Again, we should have a look at this dataset from Fiji"
   ]
  },
  {
   "cell_type": "code",
   "execution_count": 14,
   "metadata": {},
   "outputs": [
    {
     "name": "stderr",
     "output_type": "stream",
     "text": [
      "/usr/local/lib64/python3.6/site-packages/pyopencl/cffi_cl.py:1521: CompilerWarning: Non-empty compiler output encountered. Set the environment variable PYOPENCL_COMPILER_OUTPUT=1 to see more.\n",
      "  \"to see more.\", CompilerWarning)\n"
     ]
    }
   ],
   "source": [
    "# let's try again with a different pixel size (and thus larger field of view)\n",
    "u, ex, ey, ez = biobeam.focus_field_beam(\n",
    "    shape=(80, 80, 80), \n",
    "    units=(100, 100, 100),\n",
    "    lam=488, NA=[0.8, 0], \n",
    "    return_all_fields=True)\n",
    "\n",
    "# save result to disc\n",
    "fout=open('NA0.8_intensity3.raw', 'wb')\n",
    "fout.write(u)\n",
    "fout.close()\n",
    "\n",
    "\n",
    "\n"
   ]
  },
  {
   "cell_type": "code",
   "execution_count": 16,
   "metadata": {},
   "outputs": [
    {
     "name": "stderr",
     "output_type": "stream",
     "text": [
      "/usr/local/lib64/python3.6/site-packages/pyopencl/cffi_cl.py:1521: CompilerWarning: Non-empty compiler output encountered. Set the environment variable PYOPENCL_COMPILER_OUTPUT=1 to see more.\n",
      "  \"to see more.\", CompilerWarning)\n"
     ]
    }
   ],
   "source": [
    "# Bessel beams\n",
    "u, ex, ey, ez = biobeam.focus_field_beam(\n",
    "    shape=(80, 80, 80), \n",
    "    units=(100, 100, 100),\n",
    "    lam=488, NA=[0.8, 0.7], \n",
    "    return_all_fields=True)\n",
    "\n",
    "# save result to disc\n",
    "fout=open('NA0.8_0.7_intensity_bessel.raw', 'wb')\n",
    "fout.write(u)\n",
    "fout.close()"
   ]
  },
  {
   "cell_type": "code",
   "execution_count": null,
   "metadata": {},
   "outputs": [],
   "source": []
  }
 ],
 "metadata": {
  "kernelspec": {
   "display_name": "Python 3",
   "language": "python",
   "name": "python3"
  },
  "language_info": {
   "codemirror_mode": {
    "name": "ipython",
    "version": 3
   },
   "file_extension": ".py",
   "mimetype": "text/x-python",
   "name": "python",
   "nbconvert_exporter": "python",
   "pygments_lexer": "ipython3",
   "version": "3.6.5"
  }
 },
 "nbformat": 4,
 "nbformat_minor": 2
}
